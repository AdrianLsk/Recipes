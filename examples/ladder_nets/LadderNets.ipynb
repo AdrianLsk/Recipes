{
 "cells": [
  {
   "cell_type": "code",
   "execution_count": 1,
   "metadata": {
    "collapsed": false,
    "scrolled": true
   },
   "outputs": [
    {
     "name": "stdout",
     "output_type": "stream",
     "text": [
      "/home/adrian/code/sideprojects\n"
     ]
    }
   ],
   "source": [
    "cd /home/adrian/code/sideprojects/"
   ]
  },
  {
   "cell_type": "code",
   "execution_count": 88,
   "metadata": {
    "collapsed": true
   },
   "outputs": [],
   "source": [
    "import sys\n",
    "sys.path.append('/home/adrian/code/sideprojects/')"
   ]
  },
  {
   "cell_type": "code",
   "execution_count": 2,
   "metadata": {
    "collapsed": false
   },
   "outputs": [
    {
     "name": "stderr",
     "output_type": "stream",
     "text": [
      "Using gpu device 2: Tesla K80 (CNMeM is disabled, cuDNN 4007)\n"
     ]
    }
   ],
   "source": [
    "# import ladder_nets\n",
    "# reload(ladder_nets)\n",
    "from ladder_nets import build_model, build_cost"
   ]
  },
  {
   "cell_type": "code",
   "execution_count": 3,
   "metadata": {
    "collapsed": false
   },
   "outputs": [],
   "source": [
    "num_encoder = [500, 10]\n",
    "num_decoder = [500, 784]\n",
    "\n",
    "[train_output_l, eval_output_l], dirty_net, clean_net = build_model(num_encoder, num_decoder, 0.3, 0.3, \n",
    "                                                                    batch_size=50, inp_size=784,\n",
    "                                                                    combinator_type='milaUDEM')"
   ]
  },
  {
   "cell_type": "code",
   "execution_count": 4,
   "metadata": {
    "collapsed": false
   },
   "outputs": [
    {
     "data": {
      "text/plain": [
       "[['input', (50, 784)],\n",
       " ['input_corr', (50, 784)],\n",
       " ['dirty_enc_dense_0', (50, 500)],\n",
       " ['dirty_enc_batchn_0_norm', (50, 500)],\n",
       " ['dirty_enc_noise_0_', (50, 500)],\n",
       " ['dirty_enc_batchn_0_learn', (50, 500)],\n",
       " ['dirty_enc_activation_0', (50, 500)],\n",
       " ['dirty_enc_dense_1', (50, 10)],\n",
       " ['dirty_enc_batchn_1_norm', (50, 10)],\n",
       " ['dirty_enc_noise_1_', (50, 10)],\n",
       " ['dirty_enc_batchn_1_learn', (50, 10)],\n",
       " ['dirty_enc_softmax', (50, 10)],\n",
       " ['dec_batchn_softmax', (50, 10)],\n",
       " ['dec_combinator_0', (50, 10)],\n",
       " ['dec_batchn_0', (50, 10)],\n",
       " ['dec_dense_1', (50, 500)],\n",
       " ['dec_batchn_dense_1', (50, 500)],\n",
       " ['dec_combinator_1', (50, 500)],\n",
       " ['dec_batchn_1', (50, 500)],\n",
       " ['dec_dense_2', (50, 784)],\n",
       " ['dec_combinator_2', (50, 784)]]"
      ]
     },
     "execution_count": 4,
     "metadata": {},
     "output_type": "execute_result"
    }
   ],
   "source": [
    "map(lambda x: [x.name, x.output_shape], dirty_net.values())"
   ]
  },
  {
   "cell_type": "code",
   "execution_count": 5,
   "metadata": {
    "collapsed": false
   },
   "outputs": [
    {
     "data": {
      "text/plain": [
       "[['input', (50, 784)],\n",
       " ['clean_enc_dense_0', (50, 500)],\n",
       " ['clean_enc_batchn_0_norm', (50, 500)],\n",
       " ['clean_enc_batchn_0_learn', (50, 500)],\n",
       " ['clean_enc_activation_0', (50, 500)],\n",
       " ['clean_enc_dense_1', (50, 10)],\n",
       " ['clean_enc_batchn_1_norm', (50, 10)],\n",
       " ['clean_enc_batchn_1_learn', (50, 10)],\n",
       " ['clean_enc_softmax', (50, 10)]]"
      ]
     },
     "execution_count": 5,
     "metadata": {},
     "output_type": "execute_result"
    }
   ],
   "source": [
    "map(lambda x: [x.name, x.output_shape], clean_net.values())"
   ]
  },
  {
   "cell_type": "code",
   "execution_count": 6,
   "metadata": {
    "collapsed": true
   },
   "outputs": [],
   "source": [
    "import theano.tensor as T\n",
    "import lasagne\n",
    "import theano"
   ]
  },
  {
   "cell_type": "code",
   "execution_count": 7,
   "metadata": {
    "collapsed": false
   },
   "outputs": [],
   "source": [
    "# set up input/output variables\n",
    "X = T.fmatrix('X')\n",
    "y = T.imatrix('y')\n",
    "\n",
    "# training output\n",
    "output_train = lasagne.layers.get_output(train_output_l, X, deterministic=False)\n",
    "\n",
    "# evaluation output. Also includes output of transform for plotting\n",
    "output_eval = lasagne.layers.get_output(eval_output_l, X, deterministic=True)\n",
    "\n",
    "# set up (possibly amortizable) lr, cost and updates\n",
    "sh_lr = theano.shared(lasagne.utils.floatX(0.0005))\n",
    "\n",
    "cost, rec_costs = build_cost(X, y, num_decoder, dirty_net, clean_net, output_train, [0.1]*3)\n",
    "\n",
    "net_params = lasagne.layers.get_all_params(train_output_l, trainable=True)\n",
    "updates = lasagne.updates.adam(cost, net_params, learning_rate=sh_lr)\n",
    "\n",
    "# # get training and evaluation functions\n",
    "train = theano.function([X, y], [cost + T.sum(rec_costs)] + rec_costs, updates=updates)\n",
    "eval = theano.function([X], [output_eval])"
   ]
  },
  {
   "cell_type": "code",
   "execution_count": null,
   "metadata": {
    "collapsed": true
   },
   "outputs": [],
   "source": [
    "network_dump = {'output_layer': output_layer,\n",
    "                'net': net,\n",
    "                'x': X,\n",
    "                'y': y,\n",
    "                'output_eval': output_eval\n",
    "                }"
   ]
  },
  {
   "cell_type": "code",
   "execution_count": 8,
   "metadata": {
    "collapsed": false
   },
   "outputs": [],
   "source": [
    "from fuel.datasets import MNIST\n",
    "from fuel.streams import DataStream\n",
    "from fuel.schemes import ShuffledScheme\n",
    "from fuel.transformers import Flatten, OneHotEncoding, Duplicate, Mapping, \\\n",
    "    FilterSources, Merge\n",
    "\n",
    "mnist = MNIST(which_sets=('train',), # sources='features',\n",
    "              subset=slice(0, 50000), load_in_memory=True)\n",
    "mnist_val = MNIST(which_sets=('train',), # sources='features',\n",
    "                  subset=slice(50000, 60000), load_in_memory=True)\n",
    "mnist_test = MNIST(which_sets=('test',), # sources='features',\n",
    "                   load_in_memory=True)\n",
    "\n",
    "batch_size = 100\n",
    "\n",
    "data_stream = DataStream(mnist,\n",
    "                         iteration_scheme=ShuffledScheme(mnist.num_examples,\n",
    "                                                         batch_size=batch_size))\n",
    "\n",
    "data_stream_val = DataStream(mnist_val,\n",
    "                             iteration_scheme=ShuffledScheme(mnist_val.num_examples,\n",
    "                                                             batch_size=batch_size))\n",
    "\n",
    "data_stream_test = DataStream(mnist_test,\n",
    "                              iteration_scheme=ShuffledScheme(mnist_test.num_examples,\n",
    "                                                              batch_size=batch_size))\n",
    "\n",
    "data_stream = Flatten(data_stream, which_sources=('features',))\n",
    "data_stream_val = Flatten(data_stream_val, which_sources=('features',))\n",
    "data_stream_test = Flatten(data_stream_test, which_sources=('features',))\n",
    "\n",
    "num_classes = 10\n",
    "\n",
    "data_stream = OneHotEncoding(data_stream=data_stream,\n",
    "                             which_sources=('targets',),\n",
    "                             num_classes=num_classes)\n",
    "\n",
    "data_stream_val = OneHotEncoding(data_stream=data_stream_val,\n",
    "                                 which_sources=('targets',),\n",
    "                                 num_classes=num_classes)\n",
    "\n",
    "data_stream_test = OneHotEncoding(data_stream=data_stream_test,\n",
    "                                  which_sources=('targets',),\n",
    "                                  num_classes=num_classes)"
   ]
  },
  {
   "cell_type": "code",
   "execution_count": 9,
   "metadata": {
    "collapsed": true
   },
   "outputs": [],
   "source": [
    "batch = next(data_stream.get_epoch_iterator())"
   ]
  },
  {
   "cell_type": "code",
   "execution_count": 10,
   "metadata": {
    "collapsed": true
   },
   "outputs": [],
   "source": [
    "import matplotlib.pyplot as plt\n",
    "%matplotlib inline"
   ]
  },
  {
   "cell_type": "code",
   "execution_count": 18,
   "metadata": {
    "collapsed": false
   },
   "outputs": [
    {
     "name": "stdout",
     "output_type": "stream",
     "text": [
      "[array(0.7222740358114242), array(0.008365500718355179, dtype=float32), array(0.013544824905693531, dtype=float32), array(0.05210600048303604, dtype=float32)]\n"
     ]
    },
    {
     "data": {
      "text/plain": [
       "(array([ 114.,   74.,   19.,   29.,   11.,   16.,   12.,   42.,   67.,  116.]),\n",
       " array([ 0.99610198,  0.99688592,  0.99766986,  0.99845381,  0.99923775,\n",
       "         1.0000217 ,  1.00080564,  1.00158958,  1.00237353,  1.00315747,\n",
       "         1.00394142]),\n",
       " <a list of 10 Patch objects>)"
      ]
     },
     "execution_count": 18,
     "metadata": {},
     "output_type": "execute_result"
    },
    {
     "data": {
      "image/png": "[encoded data removed]",
      "text/plain": [
       "<matplotlib.figure.Figure at 0x7fc2ade2d3d0>"
      ]
     },
     "metadata": {},
     "output_type": "display_data"
    }
   ],
   "source": [
    "print train(*batch)\n",
    "plt.hist(dirty_net['enc_batchn_0_learn'].gamma.get_value(borrow=True).ravel())"
   ]
  },
  {
   "cell_type": "code",
   "execution_count": 69,
   "metadata": {
    "collapsed": false
   },
   "outputs": [],
   "source": [
    "train_mean = theano.function([X, y], [cost, dirty_net['enc_batchn_0_norm'].mean, dirty_net['enc_batchn_0_norm'].inv_std,\n",
    "                                      dirty_net['enc_batchn_0_learn'].mean, dirty_net['enc_batchn_0_learn'].inv_std],\n",
    "                             updates=updates)"
   ]
  },
  {
   "cell_type": "code",
   "execution_count": 71,
   "metadata": {
    "collapsed": true
   },
   "outputs": [],
   "source": [
    "import numpy as np"
   ]
  },
  {
   "cell_type": "code",
   "execution_count": 75,
   "metadata": {
    "collapsed": false
   },
   "outputs": [
    {
     "name": "stdout",
     "output_type": "stream",
     "text": [
      "0.485343794748\n"
     ]
    },
    {
     "data": {
      "text/plain": [
       "(array([   0.,    0.,    0.,    0.,    0.,  500.,    0.,    0.,    0.,    0.]),\n",
       " array([ 0.5,  0.6,  0.7,  0.8,  0.9,  1. ,  1.1,  1.2,  1.3,  1.4,  1.5]),\n",
       " <a list of 10 Patch objects>)"
      ]
     },
     "execution_count": 75,
     "metadata": {},
     "output_type": "execute_result"
    },
    {
     "data": {
      "image/png": "[encoded data removed]",
      "text/plain": [
       "<matplotlib.figure.Figure at 0x7f63ac999990>"
      ]
     },
     "metadata": {},
     "output_type": "display_data"
    }
   ],
   "source": [
    "# batchnorm working!\n",
    "cost_val, mean_norm, inv_std_norm, mean_learn, inv_std_learn = train_mean(*batch)\n",
    "print cost_val\n",
    "fig, ax = plt.subplots(2,2, figsize=[10,5])\n",
    "ax[0,0].hist(np.asarray(mean_norm).ravel())\n",
    "ax[0,1].hist(mean_learn.ravel(1))\n",
    "ax[1,0].hist(np.asarray(inv_std_norm).ravel())\n",
    "ax[1,1].hist(inv_std_learn.ravel(1))"
   ]
  },
  {
   "cell_type": "code",
   "execution_count": 20,
   "metadata": {
    "collapsed": false
   },
   "outputs": [
    {
     "data": {
      "text/plain": [
       "[['input', (50, 784)],\n",
       " ['input_corr', (50, 784)],\n",
       " ['dirty_enc_dense_0', (50, 500)],\n",
       " ['dirty_enc_batchn_0_norm', (50, 500)],\n",
       " ['dirty_enc_noise_0_', (50, 500)],\n",
       " ['dirty_enc_batchn_0_learn', (50, 500)],\n",
       " ['dirty_enc_activation_0', (50, 500)],\n",
       " ['dirty_enc_dense_1', (50, 10)],\n",
       " ['dirty_enc_batchn_1_norm', (50, 10)],\n",
       " ['dirty_enc_noise_1_', (50, 10)],\n",
       " ['dirty_enc_batchn_1_learn', (50, 10)],\n",
       " ['dirty_enc_softmax', (50, 10)],\n",
       " ['dec_batchn_softmax', (50, 10)],\n",
       " ['dec_combinator_0', (50, 10)],\n",
       " ['dec_batchn_0', (50, 10)],\n",
       " ['dec_dense_1', (50, 500)],\n",
       " ['dec_batchn_dense_1', (50, 500)],\n",
       " ['dec_combinator_1', (50, 500)],\n",
       " ['dec_batchn_1', (50, 500)],\n",
       " ['dec_dense_2', (50, 784)],\n",
       " ['dec_combinator_2', (50, 784)]]"
      ]
     },
     "execution_count": 20,
     "metadata": {},
     "output_type": "execute_result"
    }
   ],
   "source": [
    "map(lambda x: [x.name, x.output_shape], dirty_net.values())"
   ]
  },
  {
   "cell_type": "code",
   "execution_count": 21,
   "metadata": {
    "collapsed": false
   },
   "outputs": [
    {
     "data": {
      "text/plain": [
       "[['input', (50, 784)],\n",
       " ['clean_enc_dense_0', (50, 500)],\n",
       " ['clean_enc_batchn_0_norm', (50, 500)],\n",
       " ['clean_enc_batchn_0_learn', (50, 500)],\n",
       " ['clean_enc_activation_0', (50, 500)],\n",
       " ['clean_enc_dense_1', (50, 10)],\n",
       " ['clean_enc_batchn_1_norm', (50, 10)],\n",
       " ['clean_enc_batchn_1_learn', (50, 10)],\n",
       " ['clean_enc_softmax', (50, 10)]]"
      ]
     },
     "execution_count": 21,
     "metadata": {},
     "output_type": "execute_result"
    }
   ],
   "source": [
    "map(lambda x: [x.name, x.output_shape], clean_net.values())"
   ]
  },
  {
   "cell_type": "code",
   "execution_count": 42,
   "metadata": {
    "collapsed": true
   },
   "outputs": [],
   "source": [
    "from lasagne.layers import get_all_layers"
   ]
  },
  {
   "cell_type": "code",
   "execution_count": 44,
   "metadata": {
    "collapsed": true
   },
   "outputs": [],
   "source": [
    "W = lasagne.init.GlorotUniform()\n",
    "beta=lasagne.init.Constant(0)\n",
    "gamma=lasagne.init.Constant(1)\n",
    "\n",
    "shp = (500,)\n",
    "zero_const = T.zeros(shp, np.float32)\n",
    "one_const = T.ones(shp, np.float32)"
   ]
  },
  {
   "cell_type": "code",
   "execution_count": 45,
   "metadata": {
    "collapsed": false
   },
   "outputs": [
    {
     "data": {
      "text/plain": [
       "['InputLayer',\n",
       " 'DenseLayer',\n",
       " 'BatchNormLayer',\n",
       " 'NonlinearityLayer',\n",
       " 'BatchNormLayer',\n",
       " 'NonlinearityLayer']"
      ]
     },
     "execution_count": 45,
     "metadata": {},
     "output_type": "execute_result"
    }
   ],
   "source": [
    "l1b = InputLayer((64, 768))\n",
    "l2b = batch_norm(batch_norm(DenseLayer(l1, num_units=500, nonlinearity=tanh), \n",
    "                            beta=None, gamma=None), alpha=1., \n",
    "                 beta=beta, gamma=gamma, mean=zero_const, inv_std=one_const)\n",
    "[l.__class__.__name__ for l in get_all_layers(l2b)]"
   ]
  },
  {
   "cell_type": "code",
   "execution_count": 46,
   "metadata": {
    "collapsed": false
   },
   "outputs": [
    {
     "data": {
      "text/plain": [
       "['InputLayer',\n",
       " 'DenseLayer',\n",
       " 'BatchNormLayer',\n",
       " 'BatchNormLayer',\n",
       " 'NonlinearityLayer']"
      ]
     },
     "execution_count": 46,
     "metadata": {},
     "output_type": "execute_result"
    }
   ],
   "source": [
    "l1 = InputLayer((64, 768))\n",
    "l2 = DenseLayer(l1, num_units=500, nonlinearity=linear)\n",
    "lb1 = BatchNormLayer(l2, alpha=0.1, beta=None, gamma=None)\n",
    "lb2 = BatchNormLayer(lb1, alpha=1., beta=beta, gamma=gamma, \n",
    "                     mean=zero_const, inv_std=one_const)\n",
    "l3 = NonlinearityLayer(lb2, nonlinearity=tanh)\n",
    "[l.__class__.__name__ for l in get_all_layers(l3)]"
   ]
  },
  {
   "cell_type": "markdown",
   "metadata": {},
   "source": [
    "References:  \n",
    "http://arxiv.org/pdf/1411.7783.pdf  \n",
    "http://arxiv.org/pdf/1507.02672v2.pdf  \n",
    "http://arxiv.org/pdf/1511.06430.pdf"
   ]
  }
 ],
 "metadata": {
  "kernelspec": {
   "display_name": "Python 2",
   "language": "python",
   "name": "python2"
  },
  "language_info": {
   "codemirror_mode": {
    "name": "ipython",
    "version": 2
   },
   "file_extension": ".py",
   "mimetype": "text/x-python",
   "name": "python",
   "nbconvert_exporter": "python",
   "pygments_lexer": "ipython2",
   "version": "2.7.6"
  }
 },
 "nbformat": 4,
 "nbformat_minor": 0
}
