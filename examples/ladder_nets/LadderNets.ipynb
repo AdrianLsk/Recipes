{
 "cells": [
  {
   "cell_type": "code",
   "execution_count": 5,
   "metadata": {
    "collapsed": false
   },
   "outputs": [
    {
     "name": "stdout",
     "output_type": "stream",
     "text": [
      "Start training...\n",
      "Layer #0 rec cost: 0.0523031353951\n",
      "Layer #1 rec cost: 0.00836394913495\n",
      "Layer #2 rec cost: 0.117911726236\n",
      "enc_batchn_0_learn: mean True, inv_std True\n",
      "enc_batchn_1_learn: mean True, inv_std True\n",
      "Epoch 0: Train cost 0.85103150726, train acc 0.93518, val acc 0.9366\n",
      "Layer #0 rec cost: 0.0523090846837\n",
      "Layer #1 rec cost: 0.00838615372777\n",
      "Layer #2 rec cost: 0.115602619946\n",
      "enc_batchn_0_learn: mean True, inv_std True\n",
      "enc_batchn_1_learn: mean True, inv_std True\n",
      "Epoch 1: Train cost 0.742657381409, train acc 0.94888, val acc 0.9453\n",
      "Layer #0 rec cost: 0.0523090697825\n",
      "Layer #1 rec cost: 0.00840173009783\n",
      "Layer #2 rec cost: 0.114492356777\n",
      "enc_batchn_0_learn: mean True, inv_std True\n",
      "enc_batchn_1_learn: mean True, inv_std True\n",
      "Epoch 2: Train cost 0.719053864464, train acc 0.95816, val acc 0.9541\n",
      "Layer #0 rec cost: 0.0522957369685\n",
      "Layer #1 rec cost: 0.00840636808425\n",
      "Layer #2 rec cost: 0.114234052598\n",
      "enc_batchn_0_learn: mean True, inv_std True\n",
      "enc_batchn_1_learn: mean True, inv_std True\n",
      "Epoch 3: Train cost 0.70547588383, train acc 0.96916, val acc 0.9609\n",
      "Layer #0 rec cost: 0.0523124374449\n",
      "Layer #1 rec cost: 0.00841217115521\n",
      "Layer #2 rec cost: 0.113789305091\n",
      "enc_batchn_0_learn: mean True, inv_std True\n",
      "enc_batchn_1_learn: mean True, inv_std True\n",
      "Epoch 4: Train cost 0.693144676127, train acc 0.97076, val acc 0.9607\n",
      "Layer #0 rec cost: 0.0523018464446\n",
      "Layer #1 rec cost: 0.0084175830707\n",
      "Layer #2 rec cost: 0.11399256438\n",
      "enc_batchn_0_learn: mean True, inv_std True\n",
      "enc_batchn_1_learn: mean True, inv_std True\n",
      "Epoch 5: Train cost 0.687760960555, train acc 0.97554, val acc 0.9645\n",
      "Layer #0 rec cost: 0.0523033551872\n",
      "Layer #1 rec cost: 0.00842206645757\n",
      "Layer #2 rec cost: 0.113653443754\n",
      "enc_batchn_0_learn: mean True, inv_std True\n",
      "enc_batchn_1_learn: mean True, inv_std True\n",
      "Epoch 6: Train cost 0.681915052639, train acc 0.97504, val acc 0.9613\n",
      "Layer #0 rec cost: 0.052292086184\n",
      "Layer #1 rec cost: 0.00842817965895\n",
      "Layer #2 rec cost: 0.113471724093\n",
      "enc_batchn_0_learn: mean True, inv_std True\n",
      "enc_batchn_1_learn: mean True, inv_std True\n",
      "Epoch 7: Train cost 0.676880990575, train acc 0.98124, val acc 0.9688\n",
      "Layer #0 rec cost: 0.0523066557944\n",
      "Layer #1 rec cost: 0.0084327859804\n",
      "Layer #2 rec cost: 0.113498724997\n",
      "enc_batchn_0_learn: mean True, inv_std True\n",
      "enc_batchn_1_learn: mean True, inv_std True\n",
      "Epoch 8: Train cost 0.673917843942, train acc 0.98184, val acc 0.9668\n",
      "Layer #0 rec cost: 0.0522929169238\n",
      "Layer #1 rec cost: 0.00842999480665\n",
      "Layer #2 rec cost: 0.113631747663\n",
      "enc_batchn_0_learn: mean True, inv_std True\n",
      "enc_batchn_1_learn: mean True, inv_std True\n",
      "New LR: 0.10000000149\n",
      "Epoch 9: Train cost 0.671246978571, train acc 0.98178, val acc 0.9683\n",
      "Layer #0 rec cost: 0.0523014776409\n",
      "Layer #1 rec cost: 0.00842962320894\n",
      "Layer #2 rec cost: 0.112782202661\n",
      "enc_batchn_0_learn: mean True, inv_std True\n",
      "enc_batchn_1_learn: mean True, inv_std True\n",
      "Epoch 10: Train cost 0.668746202706, train acc 0.9863, val acc 0.9723\n",
      "Layer #0 rec cost: 0.0523017942905\n",
      "Layer #1 rec cost: 0.00843219831586\n",
      "Layer #2 rec cost: 0.112931199372\n",
      "enc_batchn_0_learn: mean True, inv_std True\n",
      "enc_batchn_1_learn: mean True, inv_std True\n",
      "Epoch 11: Train cost 0.667900841003, train acc 0.9857, val acc 0.9729\n",
      "Layer #0 rec cost: 0.052298579365\n",
      "Layer #1 rec cost: 0.00843434035778\n",
      "Layer #2 rec cost: 0.112664811313\n",
      "enc_batchn_0_learn: mean True, inv_std True\n",
      "enc_batchn_1_learn: mean True, inv_std True\n",
      "Epoch 12: Train cost 0.662375827058, train acc 0.98466, val acc 0.9703\n",
      "Layer #0 rec cost: 0.0522987246513\n",
      "Layer #1 rec cost: 0.0084279216826\n",
      "Layer #2 rec cost: 0.112784132361\n",
      "enc_batchn_0_learn: mean True, inv_std True\n",
      "enc_batchn_1_learn: mean True, inv_std True\n",
      "Epoch 13: Train cost 0.66105420699, train acc 0.98562, val acc 0.9704\n",
      "Layer #0 rec cost: 0.0522985383868\n",
      "Layer #1 rec cost: 0.00843381509185\n",
      "Layer #2 rec cost: 0.112974517047\n",
      "enc_batchn_0_learn: mean True, inv_std True\n",
      "enc_batchn_1_learn: mean True, inv_std True\n",
      "Epoch 14: Train cost 0.661718979622, train acc 0.9877, val acc 0.9725\n"
     ]
    }
   ],
   "source": [
    "%run train_ladder_nets.py -dlr 1. -l 0.1,1.,0.1 -ep 15"
   ]
  },
  {
   "cell_type": "markdown",
   "metadata": {},
   "source": [
    "### References:  \n",
    "http://arxiv.org/pdf/1411.7783.pdf  \n",
    "http://arxiv.org/pdf/1507.02672v2.pdf  \n",
    "http://arxiv.org/pdf/1511.06430.pdf"
   ]
  }
 ],
 "metadata": {
  "kernelspec": {
   "display_name": "Python 2",
   "language": "python",
   "name": "python2"
  },
  "language_info": {
   "codemirror_mode": {
    "name": "ipython",
    "version": 2
   },
   "file_extension": ".py",
   "mimetype": "text/x-python",
   "name": "python",
   "nbconvert_exporter": "python",
   "pygments_lexer": "ipython2",
   "version": "2.7.6"
  }
 },
 "nbformat": 4,
 "nbformat_minor": 0
}
