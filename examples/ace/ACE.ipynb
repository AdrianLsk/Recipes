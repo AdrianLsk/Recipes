{
 "cells": [
  {
   "cell_type": "markdown",
   "metadata": {},
   "source": [
    "### Conditional densities"
   ]
  },
  {
   "cell_type": "markdown",
   "metadata": {},
   "source": [
    "* Cost $$ -\\log\\mathcal{L}_{ACE} = -\\log\\mathcal{L}_{AE} - \\log\\mathcal{L}_C $$"
   ]
  },
  {
   "cell_type": "markdown",
   "metadata": {},
   "source": [
    "Kullback-Leibler divergence $D(r||q) = \\sum_x r(x) \\log {r(x) \\over q(x)}$\n",
    "between empirical $r$ and model $q$ densities, since $$ - \\log L(r||q) = S(r) + D(r||q)$$, where $S(r) = -\\mathbb{E}_r \\log r$ is the entropy of r"
   ]
  },
  {
   "cell_type": "markdown",
   "metadata": {},
   "source": [
    "### Gibbs & q-Gibbs densities"
   ]
  },
  {
   "cell_type": "markdown",
   "metadata": {},
   "source": [
    "Hence, the optimization target is the mixed empirical density $$r(x, z) = {1\n",
    "\\over P} \\sum_µ δ(x -x_µ)p(z|x)$$  The marginal empirical densities are $$r(x) = {1 \\over P} \\sum_µ\n",
    "δ(x - x_µ)$$"
   ]
  },
  {
   "cell_type": "markdown",
   "metadata": {},
   "source": [
    "### Fully-generative nets & Gibbs machines"
   ]
  },
  {
   "cell_type": "markdown",
   "metadata": {},
   "source": [
    "* closed-form reconstruction model $p^{rec}(x|z)$ defines a joint density $p(x, z) = p(z)p^{rec}(x|z)$. The implied\n",
    "posterior conditional $q(z|x) := p(x,z)/q(x)$"
   ]
  },
  {
   "cell_type": "markdown",
   "metadata": {},
   "source": [
    "$$- \\log q(x_µ) =  \\overbrace{-\\mathbb{E}_{p(z|x_µ)} \\log p^{rec}(x_µ|z)}^{\\text{reconstruction error}} +\n",
    "\\underbrace{KLD\\left( p(z|x_µ)||p(z) \\right)}_{\\text{generative error}} - \\underbrace{KLD \\left(p(z|x_µ)||q(z|x_µ) \\right)}_{\\text{variational error}} $$  \n",
    "\n",
    "The reconstruction error measures the negative likelihood of getting $x_µ$ back, after the transformations and randomness inside the net. The generative error is the divergence between the generative densities in the non-creative and creative regime (hypotenuse in the variational Pythagorean theorem). Minimizing the variational error is hard for real-life data sets, because of the intractability of $q(z|x_µ)$."
   ]
  },
  {
   "cell_type": "markdown",
   "metadata": {},
   "source": [
    "Yielding a variational upper bound:  \n",
    "$$ -\\log q(x_µ) ≤ U(− log q(x_µ)) :=\n",
    "\\underbrace{-\\mathbb{E} \\log p^{rec}\\left( x_µ|z \\right) p\\left(z|x_µ \\right)}_{\\text{reconstruction error}}\n",
    "+ \\underbrace{ KLD \\left( p(z|x_µ) ||p(z) \\right) }_{\\text{generative error}}$$"
   ]
  },
  {
   "cell_type": "markdown",
   "metadata": {},
   "source": [
    "### Latent symmetry stats & Momenta"
   ]
  },
  {
   "cell_type": "code",
   "execution_count": null,
   "metadata": {
    "collapsed": true
   },
   "outputs": [],
   "source": []
  },
  {
   "cell_type": "markdown",
   "metadata": {},
   "source": [
    "### Implementation\n"
   ]
  },
  {
   "cell_type": "markdown",
   "metadata": {},
   "source": [
    "#### Lasagne"
   ]
  },
  {
   "cell_type": "code",
   "execution_count": 2,
   "metadata": {
    "collapsed": true
   },
   "outputs": [],
   "source": [
    "import sys\n",
    "sys.path.append('/home/adrian/code/sideprojects/')"
   ]
  },
  {
   "cell_type": "code",
   "execution_count": 1,
   "metadata": {
    "collapsed": false
   },
   "outputs": [
    {
     "name": "stdout",
     "output_type": "stream",
     "text": [
      "mu 3 (None, 500) (500, 10, 350)\n",
      "log_sigma 3 (None, 500) (500, 10, 350)\n",
      "mu 3 (None, 500) (500, 10, 350)\n",
      "log_sigma 3 (None, 500) (500, 10, 350)\n",
      "h0_dec 3 (None, 10, 350) (350, 10, 500)\n",
      "input_dec 3 (None, 10, 500) (500, 10, 784)\n",
      "h1 3 (None, 500) (500, 2, 500)\n",
      "h2 3 (None, 500) (500, 2, 300)\n",
      "h3 3 (None, 300) (300, 2, 300)\n",
      "h1 3 (None, 500) (500, 2, 500)\n",
      "h2 3 (None, 500) (500, 2, 300)\n",
      "h3 3 (None, 300) (300, 2, 300)\n"
     ]
    },
    {
     "name": "stderr",
     "output_type": "stream",
     "text": [
      "Using gpu device 2: Tesla K80 (CNMeM is disabled, cuDNN 4007)\n"
     ]
    },
    {
     "data": {
      "text/plain": [
       "[[None, (None, 784)],\n",
       " [None, (None, 784)],\n",
       " ['h0', (None, 500)],\n",
       " ['batchn_h0', (None, 500)],\n",
       " ['tanh_h0', (None, 500)],\n",
       " ['drop_h0', (None, 500)],\n",
       " ['h1', (None, 2, 500)],\n",
       " ['flatten_h1', (None, 1000)],\n",
       " ['max_h1', (None, 500)],\n",
       " ['drop_h1', (None, 500)],\n",
       " ['h2', (None, 2, 300)],\n",
       " ['flatten_h2', (None, 600)],\n",
       " ['batchn_h2', (None, 600)],\n",
       " ['max_h2', (None, 300)],\n",
       " ['drop_h2', (None, 300)],\n",
       " ['h3', (None, 2, 300)],\n",
       " ['flatten_h3', (None, 600)],\n",
       " ['max_h3', (None, 300)],\n",
       " ['drop_h3', (None, 300)],\n",
       " ['prob_y', (None, 10)],\n",
       " ['mu', (None, 10, 350)],\n",
       " ['log_sigma', (None, 10, 350)],\n",
       " ['latent_z', (None, 10, 350)],\n",
       " ['h0_dec', (None, 10, 500)],\n",
       " ['drop_h0_dec', (None, 10, 500)],\n",
       " ['input_dec', (None, 10, 784)],\n",
       " ['X_hat', (None, 10, 784)]]"
      ]
     },
     "execution_count": 1,
     "metadata": {},
     "output_type": "execute_result"
    }
   ],
   "source": [
    "# import sys\n",
    "# sys.path.append('/home/adrian/code/sideprojects/')\n",
    "\n",
    "import theano\n",
    "from ace import build_net\n",
    "import lasagne\n",
    "from lasagne.layers import InputLayer, DropoutLayer\n",
    "import theano.tensor as T\n",
    "from collections import OrderedDict\n",
    "\n",
    "n_h, n_h2, n_h3, n_h4 = [500, 500, 300, 300]\n",
    "encoder_hid = [n_h, [2, n_h2], [2, n_h3], [2, n_h4]]\n",
    "num_classes = n_c = 10\n",
    "n_z = 350\n",
    "num_latent = [n_c, n_z]\n",
    "dec_hid = [[n_c, n_h], [n_c, 784]]\n",
    "\n",
    "num_classes = n_c = 10\n",
    "network_dump = build_net(None, encoder_hid, num_latent, dec_hid, 10, supervised=True)\n",
    "map(lambda x: [x.name, x.output_shape], network_dump['net'].values())"
   ]
  },
  {
   "cell_type": "code",
   "execution_count": 3,
   "metadata": {
    "collapsed": false
   },
   "outputs": [],
   "source": [
    "cost = network_dump['cost']"
   ]
  },
  {
   "cell_type": "code",
   "execution_count": 4,
   "metadata": {
    "collapsed": false
   },
   "outputs": [
    {
     "name": "stdout",
     "output_type": "stream",
     "text": [
      "OrderedDict([(h0.W, None), (h0.b, None), (batchn_h0.beta, None), (batchn_h0.gamma, None), (h1.W, None), (h1.b, None), (h2.W, None), (h2.b, None), (batchn_h2.beta, None), (batchn_h2.gamma, None), (h3.W, None), (h3.b, None), (prob_y.W, None), (prob_y.b, None), (mu.W, None), (mu.b, None), (log_sigma.W, None), (log_sigma.b, None), (h0_dec.W, None), (h0_dec.b, None), (input_dec.W, None), (input_dec.b, None)])\n"
     ]
    }
   ],
   "source": [
    "# # set up input/output variables\n",
    "# X = T.fmatrix('X')\n",
    "# y = T.imatrix('y')\n",
    "X = network_dump['x']\n",
    "y = network_dump['y']\n",
    "net = network_dump['net']\n",
    "# # training output\n",
    "# output_train = lasagne.layers.get_output(train_output_l, X, deterministic=False)\n",
    "\n",
    "# # evaluation output\n",
    "# output_eval = lasagne.layers.get_output(eval_output_l, X, deterministic=True)\n",
    "\n",
    "# set up (possibly amortizable) lr, cost and updates\n",
    "sh_lr = theano.shared(lasagne.utils.floatX(0.0005))\n",
    "\n",
    "# enc params\n",
    "net_params = OrderedDict.fromkeys(lasagne.layers.get_all_params(net['prob_y'], trainable=True))\n",
    "# gen params\n",
    "net_params.update(OrderedDict.fromkeys(lasagne.layers.get_all_params(net['latent_z'], trainable=True)))\n",
    "# dec params\n",
    "net_params.update(OrderedDict.fromkeys(lasagne.layers.get_all_params(net['X_hat'], trainable=True)))\n",
    "print net_params\n",
    "\n",
    "updates = lasagne.updates.adam(cost, net_params.keys(), learning_rate=sh_lr)\n",
    "# mode = theano.compile.mode.Mode(linker='py', optimizer='fast_compile')\n",
    "mode = theano.compile.get_default_mode()\n",
    "\n",
    "# get training and evaluation functions\n",
    "train = theano.function([X, y], [cost], updates=updates, mode=mode)\n",
    "# eval = theano.function([X], [net['latent_z']], mode=mode)"
   ]
  },
  {
   "cell_type": "code",
   "execution_count": 5,
   "metadata": {
    "collapsed": true
   },
   "outputs": [],
   "source": [
    "from fuel.datasets import MNIST\n",
    "from fuel.streams import DataStream\n",
    "from fuel.schemes import ShuffledScheme\n",
    "from fuel.transformers import Flatten, OneHotEncoding, Duplicate, Mapping, \\\n",
    "    FilterSources, Merge\n",
    "\n",
    "mnist = MNIST(which_sets=('train',), # sources='features',\n",
    "              subset=slice(0, 50000), load_in_memory=True)\n",
    "mnist_val = MNIST(which_sets=('train',), # sources='features',\n",
    "                  subset=slice(50000, 60000), load_in_memory=True)\n",
    "mnist_test = MNIST(which_sets=('test',), # sources='features',\n",
    "                   load_in_memory=True)\n",
    "\n",
    "batch_size = 100\n",
    "\n",
    "data_stream = DataStream(mnist,\n",
    "                         iteration_scheme=ShuffledScheme(mnist.num_examples,\n",
    "                                                         batch_size=batch_size))\n",
    "\n",
    "data_stream_val = DataStream(mnist_val,\n",
    "                             iteration_scheme=ShuffledScheme(mnist_val.num_examples,\n",
    "                                                             batch_size=batch_size))\n",
    "\n",
    "data_stream_test = DataStream(mnist_test,\n",
    "                              iteration_scheme=ShuffledScheme(mnist_test.num_examples,\n",
    "                                                              batch_size=batch_size))\n",
    "\n",
    "data_stream = Flatten(data_stream, which_sources=('features',))\n",
    "data_stream_val = Flatten(data_stream_val, which_sources=('features',))\n",
    "data_stream_test = Flatten(data_stream_test, which_sources=('features',))\n",
    "\n",
    "num_classes = 10\n",
    "\n",
    "data_stream = OneHotEncoding(data_stream=data_stream,\n",
    "                             which_sources=('targets',),\n",
    "                             num_classes=num_classes)\n",
    "\n",
    "data_stream_val = OneHotEncoding(data_stream=data_stream_val,\n",
    "                                 which_sources=('targets',),\n",
    "                                 num_classes=num_classes)\n",
    "\n",
    "data_stream_test = OneHotEncoding(data_stream=data_stream_test,\n",
    "                                  which_sources=('targets',),\n",
    "                                  num_classes=num_classes)"
   ]
  },
  {
   "cell_type": "code",
   "execution_count": 11,
   "metadata": {
    "collapsed": false
   },
   "outputs": [
    {
     "data": {
      "text/plain": [
       "u'/home/adrian/code/ACE'"
      ]
     },
     "execution_count": 11,
     "metadata": {},
     "output_type": "execute_result"
    }
   ],
   "source": [
    "pwd"
   ]
  },
  {
   "cell_type": "code",
   "execution_count": null,
   "metadata": {
    "collapsed": false
   },
   "outputs": [],
   "source": [
    "# %load generative.py\n",
    "import theano\n",
    "import theano.tensor as T\n",
    "from theano.sandbox.rng_mrg import MRG_RandomStreams\n",
    "from theano.ifelse import ifelse\n",
    "from theano.tensor.nnet.conv import conv2d\n",
    "from theano.tensor.signal.downsample import max_pool_2d\n",
    "from theano.tensor.signal.downsample import max_pool_2d_same_size\n",
    "import numpy as np\n",
    "import scipy.io\n",
    "import time\n",
    "from toolbox import *\n",
    "from optimizer import adam\n",
    "import theano.tensor.slinalg\n",
    "\n",
    "\n",
    "from theano.tensor.shared_randomstreams import RandomStreams\n",
    "from theano.tensor.sort import argsort, ArgSortOp\n",
    "\n",
    "task = 2 #1 density estimation, 2 classification\n",
    "sampling_class = 2  #1  Gaussian, 2  Laplacian \n",
    "\n",
    "#hyper-parameters\n",
    "if task == 1:\n",
    "\tbatch_size = 1000 #batch size\n",
    "\tbinarized = True #external binarization\n",
    "\tinit_lr = 0.0002 #initial learning rate\n",
    "elif task == 2:\n",
    "\tbatch_size = 10000\n",
    "\tbinarized = False\n",
    "\tinit_lr = 0.0015\n",
    "\t\n",
    "num_epochs = 10000\n",
    "num_train = 60000 # num training observations\n",
    "it_lr = init_lr #learning rate\n",
    "lr_halflife = 500 #half-life of learning rate\n",
    "gaussian_err = False\n",
    "\n",
    "\n",
    "#import data\n",
    "P, trX, teX, trY, teY = mnist(binarized, distort=False, shuffle=False, shuffle_test_labels = False, ntrain=num_train,ntest=10000, onehot=True)   \n",
    "\n",
    "#layer sizes\n",
    "n_x = trX.shape[1]\n",
    "n_h = 700 \n",
    "n_h2 = 700\n",
    "n_h3 = 700\n",
    "n_h4 = 700\n",
    "if task == 1:\n",
    "\tn_z = 400\n",
    "elif task == 2:\n",
    "\tn_z = 100\n",
    "\n",
    "n_y = trY.shape[1]\n",
    "n_c = n_y\n",
    "\n",
    "#model\t\n",
    "def model_G_ACE(X, X_stack, Y, n_b, gaussian_err, p_drop_input,  p_drop_hidden):\n",
    "\t\t\n",
    "\n",
    "\tX = dropout(X, p_drop_input)\n",
    "\t\t\n",
    "\th0 = dropout(T.tanh(T.dot(X, W_h) + b_h), p_drop_hidden) #shape: batch_size x n_h\n",
    "\th = batchnorm(h0, epsilon= 0.) \n",
    "\t\n",
    "\t#classifier branch\t\n",
    "\t#dual treconstruction error\n",
    "\tif gaussian_err:\n",
    "\t\tdual_X_hat = T.dot(h,T.dot(h.T,X)) /n_b \n",
    "\t\tdual_recon_err = 0.5 * T.sqr(X - dual_X_hat).sum(axis=0).sum() \n",
    "\telse:\n",
    "\t\tdual_X_hat =  T.nnet.sigmoid(T.dot(h,T.dot(h.T,X))/n_b) #shape: batch_size x n_x\n",
    "\t\tdual_recon_err = T.nnet.binary_crossentropy(dual_X_hat,X).sum() \n",
    "\t\t\t\t\n",
    "\th2 = dropout((T.tensordot(h, W_h2, [[1],[1]]) + b_h2).max(axis = 1), p_drop_hidden) #shape inside tensordot: batch_size x 2 x n_h2 \n",
    "\th3 = dropout ((T.tensordot(h2, W_h3, [[1],[1]]) + b_h3).max(axis = 1), p_drop_hidden) #shape inside tensordot: batch_size x 2 x n_h3\n",
    "\th3 = batchnorm(h3, epsilon=0)\n",
    "\th4 = dropout ((T.tensordot(h3, W_h4, [[1],[1]]) + b_h4).max(axis = 1), p_drop_hidden) #shape inside tensordot: batch_size x 2 x n_h4\n",
    "\tprob_y = softmax(T.dot(h4, W_o)) #classification probabilities; shape: batch_size x n_c\n",
    "\t\t\n",
    "\n",
    "\t#auto-encoder branch \n",
    "\t#gen latent layer\n",
    "\tmu = T.tensordot(h0, W_mu, [[1],[1]])  + b_mu #shape: batch_size x n_c x n_z\n",
    "\tlog_sigma = 0.5 * (T.tensordot(h0, W_sigma, [[1],[1]]) + b_sigma)\n",
    "\t\t\n",
    "\t#sampling\n",
    "\tsrnd = MRG_RandomStreams()\n",
    "\tif sampling_class == 1: #Gaussian\n",
    "\t\teps = srnd.normal(mu.shape, dtype=theano.config.floatX)\n",
    "\t\tz = mu + eps * T.exp(log_sigma) #shape: batch_size x n_c x n_z\n",
    "\telif sampling_class == 2: #Laplacian\n",
    "\t\teps0 = srnd.uniform(mu.shape, dtype=theano.config.floatX)\n",
    "\t\tif T.lt(eps0 , 0.5) == 1:\n",
    "\t\t\tz = mu + T.exp(log_sigma) * T.sqrt(0.5) * T.log(eps0 + eps0)\n",
    "\t\telse:\n",
    "\t\t\tz = mu - T.exp(log_sigma) * T.sqrt(0.5) * T.log(2.0 - eps0 - eps0) #shape: batch_size x n_c x n_z\n",
    "\t\t\t\n",
    "\t#gen error\n",
    "\tif sampling_class == 1: #Gaussian\n",
    "\t\tgen_err_stack = -0.5*  (1 + 2*log_sigma - mu**2 -T.exp(2*log_sigma)).sum(axis=2) #shape: batch_size x n_c\n",
    "\telif sampling_class == 2: #Laplacian\n",
    "\t\tgen_err_stack = (  - log_sigma  + T.abs_(mu) /T.sqrt(0.5) + T.exp(log_sigma)*T.exp(- T.abs_(mu)/T.exp(log_sigma)/T.sqrt(0.5)) - 1 ).sum(axis=2)  \n",
    "\tgen_err = (gen_err_stack * prob_y).sum()  #Unsupervised:upper bound for mixture of densities, using weights prob_y\n",
    "\tsup_gen_err = (gen_err_stack * Y).sum() #Supervised\n",
    "\t\t\n",
    "\n",
    "\t## decoder\n",
    "\th_dec = dropout(T.tanh(T.batched_dot(z.dimshuffle((1,0,2)), W_h_dec).dimshuffle((1,0,2))   + b_h_dec),  p_drop_hidden)  \n",
    "\th2_dec = T.batched_dot(h_dec.dimshuffle((1,0,2)), W_h2_dec).dimshuffle((1,0,2)) + b_h2_dec  \n",
    "\t\t\n",
    "\tif gaussian_err:\n",
    "\t\tX_hat = rectify(T.batched_dot(h_dec.dimshuffle((1,0,2)), W5).dimshuffle((1,0,2)) + b5)\n",
    "\t\trecon_err_stack = 0.5 * np.log(2 * np.pi) +  0.5 * T.sqr(X_stack - X_hat).sum(axis = 2)  \n",
    "\t\trecon_err = (recon_err_stack * prob_y).sum() \n",
    "\t\t\n",
    "\telse:\n",
    "\t\tX_hat = T.nnet.sigmoid(h2_dec) #shape: batch_size x n_c x n_x\n",
    "\t\trecon_err_stack = T.nnet.binary_crossentropy(X_hat,X_stack).sum(axis = 2)  #shape: batch_size x n_c\n",
    "\t\trecon_err = (recon_err_stack * prob_y).sum() #Unsupervised: mixture of densities, using  weights prob_y\n",
    "\t\tsup_recon_err = (recon_err_stack * Y).sum()   #Supervised\n",
    "\t\t\t\n",
    "\treturn [ dual_recon_err,  gen_err, sup_gen_err, X_hat, recon_err, sup_recon_err, prob_y]\n",
    "\t\n",
    "\n",
    "#symbolic variables\n",
    "X = T.fmatrix()\n",
    "Y = T.fmatrix()\n",
    "Z = T.ftensor3()\n",
    "learning_rate = T.fscalar('learning_rate')\n",
    "start, end = T.lscalars('start', 'end')\t\n",
    "\n",
    "#weights and biases initialization\n",
    "#1.auto-encoder branch\n",
    "W_mu = shared_normal((n_c, n_h, n_z))\n",
    "W_sigma = shared_normal((n_c, n_h, n_z))\n",
    "W_h_dec = shared_normal((n_c, n_z, n_h)) \n",
    "W_h2_dec = shared_normal((n_c, n_h, n_x)) \n",
    "b_mu = shared_normal((n_c, n_z), sigma = 0)\n",
    "b_sigma = shared_normal((n_c, n_z), sigma = 0)\n",
    "b_h_dec = shared_normal((n_c, n_h), sigma = 0) \n",
    "b_h2_dec  = shared_normal((n_c, n_x), sigma = 0) \n",
    "\n",
    "#2.classifier branch\t\n",
    "W_h = shared_normal((n_x, n_h)) \n",
    "W_h2 = shared_normal((2, n_h, n_h2))\n",
    "W_h3 = shared_normal((2, n_h2, n_h3)) \n",
    "W_h4 = shared_normal((2, n_h3, n_h4))\n",
    "W_o  = shared_normal((n_h4, n_c))\n",
    "b_h = shared_normal((n_h,), sigma = 0) \n",
    "b_h2 = shared_normal((2, n_h2), sigma = 0)\n",
    "b_h3 = shared_normal((2, n_h3), sigma = 0)\n",
    "b_h4 = shared_normal((2, n_h4), sigma = 0)\n",
    "\n",
    "X = binomial(X) #internal binarization\n",
    "X_stack = T.stack(X,X,X,X,X,X,X,X,X,X).dimshuffle((1,0,2))\n",
    "#model calls\t\t\n",
    "[ dout_dual_recon_err,  dout_gen_err, dout_sup_gen_err, dout_X_hat, dout_recon_err, dout_sup_recon_err, dout_prob_y] = model_G_ACE(X, X_stack, Y, batch_size, gaussian_err, 0.2, 0.5) #with dropout\n",
    "[ dual_recon_err, gen_err, sup_gen_err, X_hat, recon_err, sup_recon_err, prob_y] = model_G_ACE(X, X_stack, Y, batch_size, gaussian_err, 0., 0.) #without dropout\n",
    "\t\n",
    "y_model = T.argmax(prob_y, axis=1) #model labels\n",
    "#classification err\n",
    "class_err =  T.nnet.categorical_crossentropy(prob_y, Y).sum() #(-Y * T.log(prob_y)).sum(axis=0).sum()\n",
    "dout_class_err =  T.nnet.categorical_crossentropy(dout_prob_y, Y).sum() #(-Y * T.log(dout_prob_y)).sum(axis=0).sum()\n",
    "\n",
    "#optimizer call\n",
    "if task == 1:\n",
    "\tcost = sup_recon_err + sup_gen_err + dout_class_err \n",
    "elif task == 2:\n",
    "\tcost = sup_recon_err + sup_gen_err + dout_class_err + dout_dual_recon_err\n",
    "params = [W_h, W_h2, W_h3, W_h4, W_o, W_mu, W_sigma, W_h_dec, W_h2_dec,  b_h, b_h2, b_h3, b_h4, b_mu, b_sigma, b_h_dec, b_h2_dec] \n",
    "updates, norm_grad = adam(cost, params, lr = learning_rate, data_part = float(batch_size) / P)\n",
    "\t\n",
    "#supervised non-generative output\n",
    "sup_X_hat = (X_hat*Y.dimshuffle((0,1,'x')) ).sum(axis=1)\n",
    "\t\n",
    "#supervised generative output\n",
    "h_dec_gen =   T.tanh(T.batched_dot(Z.dimshuffle((1,0,2)), W_h_dec).dimshuffle((1,0,2)) + b_h_dec) \n",
    "if gaussian_err:\n",
    "\tsup_X_hat_gen = (rectify(T.batched_dot(h_dec_gen.dimshuffle((1,0,2)), W_h2_dec).dimshuffle((1,0,2)) + b_h2_dec)  * Y.dimshuffle((0,1,'x')) ).sum(axis=1)\n",
    "else:\n",
    "\tsup_X_hat_gen = (T.nnet.sigmoid(T.batched_dot(h_dec_gen.dimshuffle((1,0,2)), W_h2_dec).dimshuffle((1,0,2)) + b_h2_dec) * Y.dimshuffle((0,1,'x')) ).sum(axis=1) \n",
    "\n",
    "#givens\n",
    "s_trX, s_teX, s_trY, s_teY = shared(trX), shared(teX), shared(trY), shared(teY)\n",
    "tr_batch_X = s_trX[start : end]\n",
    "tr_batch_Y = s_trY[start : end]\n",
    "te_batch_X = s_teX[start : end]\n",
    "te_batch_Y = s_teY[start : end]\n",
    "\n",
    "if sampling_class == 1: #Gaussian\n",
    "\ts_geZ = shared(np.random.randn(P, n_c, n_z))\n",
    "elif sampling_class == 2: #Laplacian\n",
    "\ts_geZ = shared(np.random.laplace(loc=0.0, scale=np.sqrt(0.5),size= (P, n_c, n_z)) )\n",
    "batch_geZ = s_geZ[start : end] \n",
    "\n",
    "#train ,test & generate functions\n",
    "mode = theano.compile.get_default_mode()\t\t\n",
    "train = theano.function(inputs=[start, end, learning_rate], outputs=[recon_err, gen_err, class_err,  dual_recon_err, y_model, norm_grad], updates=updates, givens = {X : tr_batch_X, Y : tr_batch_Y}, allow_input_downcast=True, on_unused_input = 'ignore',mode=mode)\n",
    "test  = theano.function(inputs=[start, end], outputs=[recon_err, gen_err, class_err,  dual_recon_err, y_model],                  givens = {X : te_batch_X, Y : te_batch_Y}, allow_input_downcast=True, on_unused_input = 'ignore',mode=mode)\n",
    "reconstruct  = theano.function(inputs=[start, end], outputs=sup_X_hat,                  givens = {X : te_batch_X, Y : te_batch_Y}, allow_input_downcast=True, on_unused_input = 'ignore',mode=mode)\n",
    "generate = theano.function(inputs=[start, end], outputs=sup_X_hat_gen, givens = {Z : batch_geZ, Y : te_batch_Y}, allow_input_downcast=True, on_unused_input = 'ignore', mode=mode)\n",
    "\n",
    "rnds = RandomStreams()\n",
    "\n",
    "handle = 0\n",
    "\t\t\n",
    "#main  loop\tover epochs\n",
    "tr_len = len(trY) \n",
    "te_len = len(teY) \n",
    "for it in range(num_epochs):\n",
    "\tbegin = time.time()\n",
    "\n",
    "\t#one epoch of training set\n",
    "\ttr_epoch_recon_err = 0.\n",
    "\ttr_epoch_gen_err = 0.\n",
    "\ttr_epoch_class_err = 0.\n",
    "\ttr_epoch_dual_recon_err = 0.\n",
    "\ttr_epoch_y_model = 0.\n",
    "\ttr_epoch_norm_grad = 0.\n",
    "\ttr_batches = np.arange(0,tr_len,batch_size)\n",
    "\tif tr_batches[-1] != tr_len:\n",
    "\t\ttr_batches = np.append(tr_batches,tr_len)\n",
    "\tfor i in xrange(0,len(tr_batches) - 1): \n",
    "\t\t[tr_batch_recon_err, tr_batch_gen_err, tr_batch_class_err, tr_batch_dual_recon_err, tr_batch_y_model, tr_batch_norm_grad] = train( tr_batches[i], tr_batches[i + 1], it_lr)\n",
    "\t\ttr_epoch_recon_err += tr_batch_recon_err\n",
    "\t\ttr_epoch_gen_err += tr_batch_gen_err\n",
    "\t\ttr_epoch_class_err += tr_batch_class_err\n",
    "\t\ttr_epoch_dual_recon_err += tr_batch_dual_recon_err\n",
    "\t\ttr_epoch_y_model +=  np.sum(np.argmax(trY[tr_batches[i]:tr_batches[i + 1]], axis=1) == tr_batch_y_model)\n",
    "\t\ttr_epoch_norm_grad += tr_batch_norm_grad\n",
    "\t\n",
    "\t#one epoch of test set\t\n",
    "\tte_epoch_recon_err = 0.\n",
    "\tte_epoch_gen_err = 0.\n",
    "\tte_epoch_class_err = 0.\n",
    "\tte_epoch_dual_recon_err = 0.\n",
    "\tte_epoch_y_model = 0.\n",
    "\tte_batches = np.arange(0, te_len, batch_size)\n",
    "\tif te_batches[-1] != te_len:\n",
    "\t\tte_batches = np.append(te_batches,te_len)\t\n",
    "\tfor i in xrange(0,len(te_batches) - 1): \n",
    "\t\t[te_batch_recon_err, te_batch_gen_err, te_batch_class_err, te_batch_dual_recon_err, te_batch_y_model] = test( te_batches[i], te_batches[i + 1])\n",
    "\t\tte_epoch_recon_err += te_batch_recon_err\n",
    "\t\tte_epoch_gen_err += te_batch_gen_err\n",
    "\t\tte_epoch_class_err += te_batch_class_err\n",
    "\t\tte_epoch_dual_recon_err += te_batch_dual_recon_err\n",
    "\t\tte_epoch_y_model += np.sum(np.argmax(teY[te_batches[i]:te_batches[i + 1]], axis=1) == te_batch_y_model)\n",
    "\t\t\t\n",
    "\tit_lr = float(it_lr*np.power(0.5, 1./lr_halflife))\n",
    "\tend = time.time()\n",
    "\tprint(\"%d,%.2f,%.2f,%.2f,%.2f,%.2f,%.2f,%.4f,%.4f,%.4f,%.2e,%.2f\" % (it, tr_epoch_recon_err / tr_len,  te_epoch_recon_err / te_len, \n",
    "                                                                         tr_epoch_gen_err / tr_len, te_epoch_gen_err / te_len,  \n",
    "                                                                         tr_epoch_class_err/tr_len,  \n",
    "                                                                         tr_epoch_dual_recon_err/tr_len, te_epoch_dual_recon_err/ te_len, \n",
    "                                                                         1 - tr_epoch_y_model / tr_len,  1 - te_epoch_y_model / te_len, \n",
    "                                                                         tr_epoch_norm_grad/tr_len, end - begin)) \n",
    "\t\n",
    "\t# Generate samples\n",
    "\tif it % 20 == 0:\n",
    "\t\ty_samples = generate(0,900)\n",
    "\t\ty_reconstuct = reconstruct(0, 300)\n",
    "\t\ty_samples[300:600] = y_reconstuct[0:300]\n",
    "\t\ty_samples[600:900] = teX[0:300]\n",
    "\t\thandle = visualize(it, y_samples[0:len(y_samples)], [30,30], 'samples_',handle)\n",
    "\n",
    "\n",
    "\n"
   ]
  },
  {
   "cell_type": "code",
   "execution_count": 6,
   "metadata": {
    "collapsed": false
   },
   "outputs": [],
   "source": [
    "batch = next(data_stream.get_epoch_iterator())"
   ]
  },
  {
   "cell_type": "code",
   "execution_count": null,
   "metadata": {
    "collapsed": false
   },
   "outputs": [],
   "source": [
    "train(*batch, mode=mode)"
   ]
  },
  {
   "cell_type": "markdown",
   "metadata": {},
   "source": [
    "#### original traning log"
   ]
  },
  {
   "cell_type": "code",
   "execution_count": 18,
   "metadata": {
    "collapsed": true
   },
   "outputs": [],
   "source": [
    "import pandas as pd"
   ]
  },
  {
   "cell_type": "code",
   "execution_count": 19,
   "metadata": {
    "collapsed": false,
    "scrolled": false
   },
   "outputs": [
    {
     "data": {
      "text/html": [
       "<div>\n",
       "<table border=\"1\" class=\"dataframe\">\n",
       "  <thead>\n",
       "    <tr style=\"text-align: right;\">\n",
       "      <th></th>\n",
       "      <th>iter</th>\n",
       "      <th>train_rec_err</th>\n",
       "      <th>test_rec_err</th>\n",
       "      <th>train_gen_err</th>\n",
       "      <th>test_gen_err</th>\n",
       "      <th>train_class_err</th>\n",
       "      <th>train_dual_rec_err</th>\n",
       "      <th>test_dual_rec_err</th>\n",
       "      <th>train_misclass_err</th>\n",
       "      <th>test_misclass_err</th>\n",
       "      <th>train_norm_grad</th>\n",
       "      <th>time</th>\n",
       "    </tr>\n",
       "  </thead>\n",
       "  <tbody>\n",
       "    <tr>\n",
       "      <th>0</th>\n",
       "      <td>0</td>\n",
       "      <td>417.31</td>\n",
       "      <td>206.53</td>\n",
       "      <td>7.33</td>\n",
       "      <td>37.19</td>\n",
       "      <td>1.06</td>\n",
       "      <td>561.68</td>\n",
       "      <td>516.1711</td>\n",
       "      <td>0.3329</td>\n",
       "      <td>0.1315</td>\n",
       "      <td>581000000</td>\n",
       "      <td>4.72</td>\n",
       "    </tr>\n",
       "    <tr>\n",
       "      <th>1</th>\n",
       "      <td>1</td>\n",
       "      <td>192.41</td>\n",
       "      <td>192.02</td>\n",
       "      <td>27.94</td>\n",
       "      <td>5.28</td>\n",
       "      <td>0.55</td>\n",
       "      <td>518.08</td>\n",
       "      <td>501.8632</td>\n",
       "      <td>0.1136</td>\n",
       "      <td>0.0883</td>\n",
       "      <td>156000000</td>\n",
       "      <td>4.55</td>\n",
       "    </tr>\n",
       "    <tr>\n",
       "      <th>2</th>\n",
       "      <td>2</td>\n",
       "      <td>183.25</td>\n",
       "      <td>172.68</td>\n",
       "      <td>6.82</td>\n",
       "      <td>5.92</td>\n",
       "      <td>0.37</td>\n",
       "      <td>493.76</td>\n",
       "      <td>489.4461</td>\n",
       "      <td>0.0896</td>\n",
       "      <td>0.0763</td>\n",
       "      <td>86000000</td>\n",
       "      <td>4.58</td>\n",
       "    </tr>\n",
       "    <tr>\n",
       "      <th>3</th>\n",
       "      <td>3</td>\n",
       "      <td>174.87</td>\n",
       "      <td>173.53</td>\n",
       "      <td>3.56</td>\n",
       "      <td>3.40</td>\n",
       "      <td>0.27</td>\n",
       "      <td>485.90</td>\n",
       "      <td>480.0217</td>\n",
       "      <td>0.0743</td>\n",
       "      <td>0.0620</td>\n",
       "      <td>41300000</td>\n",
       "      <td>4.58</td>\n",
       "    </tr>\n",
       "    <tr>\n",
       "      <th>4</th>\n",
       "      <td>4</td>\n",
       "      <td>172.88</td>\n",
       "      <td>169.59</td>\n",
       "      <td>2.49</td>\n",
       "      <td>2.72</td>\n",
       "      <td>0.23</td>\n",
       "      <td>477.49</td>\n",
       "      <td>476.4013</td>\n",
       "      <td>0.0640</td>\n",
       "      <td>0.0560</td>\n",
       "      <td>20800000</td>\n",
       "      <td>4.58</td>\n",
       "    </tr>\n",
       "    <tr>\n",
       "      <th>5</th>\n",
       "      <td>5</td>\n",
       "      <td>169.57</td>\n",
       "      <td>165.88</td>\n",
       "      <td>2.51</td>\n",
       "      <td>2.99</td>\n",
       "      <td>0.20</td>\n",
       "      <td>474.97</td>\n",
       "      <td>471.7932</td>\n",
       "      <td>0.0535</td>\n",
       "      <td>0.0456</td>\n",
       "      <td>12800000</td>\n",
       "      <td>4.60</td>\n",
       "    </tr>\n",
       "    <tr>\n",
       "      <th>6</th>\n",
       "      <td>6</td>\n",
       "      <td>165.48</td>\n",
       "      <td>161.43</td>\n",
       "      <td>3.05</td>\n",
       "      <td>3.46</td>\n",
       "      <td>0.17</td>\n",
       "      <td>471.80</td>\n",
       "      <td>470.2930</td>\n",
       "      <td>0.0463</td>\n",
       "      <td>0.0417</td>\n",
       "      <td>9110000</td>\n",
       "      <td>4.60</td>\n",
       "    </tr>\n",
       "    <tr>\n",
       "      <th>7</th>\n",
       "      <td>7</td>\n",
       "      <td>160.51</td>\n",
       "      <td>156.63</td>\n",
       "      <td>3.75</td>\n",
       "      <td>4.23</td>\n",
       "      <td>0.15</td>\n",
       "      <td>470.04</td>\n",
       "      <td>469.5054</td>\n",
       "      <td>0.0398</td>\n",
       "      <td>0.0373</td>\n",
       "      <td>7380000</td>\n",
       "      <td>4.61</td>\n",
       "    </tr>\n",
       "    <tr>\n",
       "      <th>8</th>\n",
       "      <td>8</td>\n",
       "      <td>155.54</td>\n",
       "      <td>151.93</td>\n",
       "      <td>4.64</td>\n",
       "      <td>5.00</td>\n",
       "      <td>0.13</td>\n",
       "      <td>467.11</td>\n",
       "      <td>466.8919</td>\n",
       "      <td>0.0356</td>\n",
       "      <td>0.0352</td>\n",
       "      <td>5400000</td>\n",
       "      <td>4.61</td>\n",
       "    </tr>\n",
       "    <tr>\n",
       "      <th>9</th>\n",
       "      <td>9</td>\n",
       "      <td>151.50</td>\n",
       "      <td>148.64</td>\n",
       "      <td>5.23</td>\n",
       "      <td>5.44</td>\n",
       "      <td>0.12</td>\n",
       "      <td>465.64</td>\n",
       "      <td>465.8369</td>\n",
       "      <td>0.0319</td>\n",
       "      <td>0.0327</td>\n",
       "      <td>4590000</td>\n",
       "      <td>4.58</td>\n",
       "    </tr>\n",
       "    <tr>\n",
       "      <th>10</th>\n",
       "      <td>10</td>\n",
       "      <td>148.46</td>\n",
       "      <td>145.89</td>\n",
       "      <td>5.50</td>\n",
       "      <td>5.60</td>\n",
       "      <td>0.11</td>\n",
       "      <td>463.38</td>\n",
       "      <td>463.8005</td>\n",
       "      <td>0.0296</td>\n",
       "      <td>0.0297</td>\n",
       "      <td>5170000</td>\n",
       "      <td>4.62</td>\n",
       "    </tr>\n",
       "    <tr>\n",
       "      <th>11</th>\n",
       "      <td>11</td>\n",
       "      <td>145.92</td>\n",
       "      <td>143.55</td>\n",
       "      <td>5.69</td>\n",
       "      <td>5.86</td>\n",
       "      <td>0.10</td>\n",
       "      <td>462.29</td>\n",
       "      <td>462.9170</td>\n",
       "      <td>0.0268</td>\n",
       "      <td>0.0276</td>\n",
       "      <td>5090000</td>\n",
       "      <td>4.61</td>\n",
       "    </tr>\n",
       "    <tr>\n",
       "      <th>12</th>\n",
       "      <td>12</td>\n",
       "      <td>143.51</td>\n",
       "      <td>141.02</td>\n",
       "      <td>6.02</td>\n",
       "      <td>6.29</td>\n",
       "      <td>0.09</td>\n",
       "      <td>461.95</td>\n",
       "      <td>462.2683</td>\n",
       "      <td>0.0247</td>\n",
       "      <td>0.0262</td>\n",
       "      <td>4930000</td>\n",
       "      <td>4.63</td>\n",
       "    </tr>\n",
       "    <tr>\n",
       "      <th>13</th>\n",
       "      <td>13</td>\n",
       "      <td>140.77</td>\n",
       "      <td>138.20</td>\n",
       "      <td>6.51</td>\n",
       "      <td>6.85</td>\n",
       "      <td>0.08</td>\n",
       "      <td>460.97</td>\n",
       "      <td>462.2802</td>\n",
       "      <td>0.0231</td>\n",
       "      <td>0.0251</td>\n",
       "      <td>4880000</td>\n",
       "      <td>4.63</td>\n",
       "    </tr>\n",
       "    <tr>\n",
       "      <th>14</th>\n",
       "      <td>14</td>\n",
       "      <td>138.32</td>\n",
       "      <td>136.14</td>\n",
       "      <td>7.03</td>\n",
       "      <td>7.34</td>\n",
       "      <td>0.08</td>\n",
       "      <td>460.06</td>\n",
       "      <td>460.0249</td>\n",
       "      <td>0.0211</td>\n",
       "      <td>0.0239</td>\n",
       "      <td>5350000</td>\n",
       "      <td>4.61</td>\n",
       "    </tr>\n",
       "  </tbody>\n",
       "</table>\n",
       "</div>"
      ],
      "text/plain": [
       "    iter  train_rec_err  test_rec_err  train_gen_err  test_gen_err  \\\n",
       "0      0         417.31        206.53           7.33         37.19   \n",
       "1      1         192.41        192.02          27.94          5.28   \n",
       "2      2         183.25        172.68           6.82          5.92   \n",
       "3      3         174.87        173.53           3.56          3.40   \n",
       "4      4         172.88        169.59           2.49          2.72   \n",
       "5      5         169.57        165.88           2.51          2.99   \n",
       "6      6         165.48        161.43           3.05          3.46   \n",
       "7      7         160.51        156.63           3.75          4.23   \n",
       "8      8         155.54        151.93           4.64          5.00   \n",
       "9      9         151.50        148.64           5.23          5.44   \n",
       "10    10         148.46        145.89           5.50          5.60   \n",
       "11    11         145.92        143.55           5.69          5.86   \n",
       "12    12         143.51        141.02           6.02          6.29   \n",
       "13    13         140.77        138.20           6.51          6.85   \n",
       "14    14         138.32        136.14           7.03          7.34   \n",
       "\n",
       "    train_class_err  train_dual_rec_err  test_dual_rec_err  \\\n",
       "0              1.06              561.68           516.1711   \n",
       "1              0.55              518.08           501.8632   \n",
       "2              0.37              493.76           489.4461   \n",
       "3              0.27              485.90           480.0217   \n",
       "4              0.23              477.49           476.4013   \n",
       "5              0.20              474.97           471.7932   \n",
       "6              0.17              471.80           470.2930   \n",
       "7              0.15              470.04           469.5054   \n",
       "8              0.13              467.11           466.8919   \n",
       "9              0.12              465.64           465.8369   \n",
       "10             0.11              463.38           463.8005   \n",
       "11             0.10              462.29           462.9170   \n",
       "12             0.09              461.95           462.2683   \n",
       "13             0.08              460.97           462.2802   \n",
       "14             0.08              460.06           460.0249   \n",
       "\n",
       "    train_misclass_err  test_misclass_err   train_norm_grad  time  \n",
       "0               0.3329             0.1315         581000000  4.72  \n",
       "1               0.1136             0.0883         156000000  4.55  \n",
       "2               0.0896             0.0763          86000000  4.58  \n",
       "3               0.0743             0.0620          41300000  4.58  \n",
       "4               0.0640             0.0560          20800000  4.58  \n",
       "5               0.0535             0.0456          12800000  4.60  \n",
       "6               0.0463             0.0417           9110000  4.60  \n",
       "7               0.0398             0.0373           7380000  4.61  \n",
       "8               0.0356             0.0352           5400000  4.61  \n",
       "9               0.0319             0.0327           4590000  4.58  \n",
       "10              0.0296             0.0297           5170000  4.62  \n",
       "11              0.0268             0.0276           5090000  4.61  \n",
       "12              0.0247             0.0262           4930000  4.63  \n",
       "13              0.0231             0.0251           4880000  4.63  \n",
       "14              0.0211             0.0239           5350000  4.61  "
      ]
     },
     "execution_count": 19,
     "metadata": {},
     "output_type": "execute_result"
    }
   ],
   "source": [
    "pd.read_csv('orig_tr_log.csv')"
   ]
  },
  {
   "cell_type": "markdown",
   "metadata": {},
   "source": [
    "#### tensor dot and batched_dot"
   ]
  },
  {
   "cell_type": "code",
   "execution_count": 41,
   "metadata": {
    "collapsed": false,
    "scrolled": true
   },
   "outputs": [
    {
     "data": {
      "text/plain": [
       "DimShuffle{1,0,2}.0"
      ]
     },
     "execution_count": 41,
     "metadata": {},
     "output_type": "execute_result"
    }
   ],
   "source": [
    "x = T.ftensor3('x')\n",
    "x.dimshuffle('x', 0, 1).dimshuffle(1, 0, 2)"
   ]
  },
  {
   "cell_type": "code",
   "execution_count": 16,
   "metadata": {
    "collapsed": true
   },
   "outputs": [],
   "source": [
    "import numpy as np"
   ]
  },
  {
   "cell_type": "code",
   "execution_count": 37,
   "metadata": {
    "collapsed": false
   },
   "outputs": [],
   "source": [
    "bs = 50\n",
    "A_vals = np.random.rand(bs,10)\n",
    "A = theano.shared(np.float32(A_vals), 'A')\n",
    "\n",
    "B_vals = np.random.rand(bs, 10, 5)\n",
    "B = theano.shared(np.float32(B_vals), 'A')\n",
    "\n",
    "C_vals = np.random.rand(bs, 10, 5)\n",
    "C = theano.shared(np.float32(C_vals), 'A')"
   ]
  },
  {
   "cell_type": "code",
   "execution_count": 38,
   "metadata": {
    "collapsed": false
   },
   "outputs": [],
   "source": [
    "y = T.batched_tensordot(B, C.dimshuffle(0, 2, 1), [[1], [1]])"
   ]
  },
  {
   "cell_type": "code",
   "execution_count": 39,
   "metadata": {
    "collapsed": false
   },
   "outputs": [
    {
     "data": {
      "text/plain": [
       "3"
      ]
     },
     "execution_count": 39,
     "metadata": {},
     "output_type": "execute_result"
    }
   ],
   "source": [
    "y.ndim"
   ]
  },
  {
   "cell_type": "code",
   "execution_count": 9,
   "metadata": {
    "collapsed": false
   },
   "outputs": [],
   "source": [
    "# f = theano.function([], y)\n",
    "# f()"
   ]
  },
  {
   "cell_type": "code",
   "execution_count": 45,
   "metadata": {
    "collapsed": true
   },
   "outputs": [],
   "source": [
    "import numpy as np"
   ]
  },
  {
   "cell_type": "code",
   "execution_count": 47,
   "metadata": {
    "collapsed": false
   },
   "outputs": [
    {
     "data": {
      "text/plain": [
       "array([[ 0.8703391 ,  0.80776858,  0.72943741,  0.0105857 ,  0.98127908],\n",
       "       [ 0.08231459,  0.26133797,  0.50626481,  0.05507144,  0.56256694],\n",
       "       [ 0.20976643,  0.61573505,  0.66324753,  0.51902807,  0.26195654],\n",
       "       [ 0.25898635,  0.7569629 ,  0.47411597,  0.13476866,  0.50601155],\n",
       "       [ 0.61269885,  0.04928602,  0.84395862,  0.13182665,  0.28974754]], dtype=float32)"
      ]
     },
     "execution_count": 47,
     "metadata": {},
     "output_type": "execute_result"
    }
   ],
   "source": [
    "f(np.random.rand(5,5).astype(np.float32))"
   ]
  },
  {
   "cell_type": "markdown",
   "metadata": {},
   "source": [
    "### reconstruction and sampling"
   ]
  },
  {
   "cell_type": "code",
   "execution_count": 21,
   "metadata": {
    "collapsed": true
   },
   "outputs": [],
   "source": [
    "from PIL import Image"
   ]
  },
  {
   "cell_type": "code",
   "execution_count": 26,
   "metadata": {
    "collapsed": false
   },
   "outputs": [
    {
     "data": {
      "image/png": "[encoded data removed]",
      "text/plain": [
       "<PIL.PngImagePlugin.PngImageFile image mode=L size=898x898 at 0x7F170554D250>"
      ]
     },
     "execution_count": 26,
     "metadata": {},
     "output_type": "execute_result"
    }
   ],
   "source": [
    "Image.open('/home/adrian/code/sideprojects/recons_9.png')"
   ]
  },
  {
   "cell_type": "code",
   "execution_count": 27,
   "metadata": {
    "collapsed": false
   },
   "outputs": [
    {
     "data": {
      "image/png": "[encoded data removed]",
      "text/plain": [
       "<PIL.PngImagePlugin.PngImageFile image mode=L size=898x898 at 0x7F170554D310>"
      ]
     },
     "execution_count": 27,
     "metadata": {},
     "output_type": "execute_result"
    }
   ],
   "source": [
    "Image.open('/home/adrian/code/sideprojects/samples_9.png')"
   ]
  },
  {
   "cell_type": "markdown",
   "metadata": {},
   "source": [
    "References:  \n",
    "http://arxiv.org/pdf/1508.06585.pdf  \n",
    "http://arxiv.org/pdf/1511.02841.pdf  \n",
    "https://github.com/galinngeorgiev/ACE"
   ]
  }
 ],
 "metadata": {
  "kernelspec": {
   "display_name": "Python 2",
   "language": "python",
   "name": "python2"
  },
  "language_info": {
   "codemirror_mode": {
    "name": "ipython",
    "version": 2
   },
   "file_extension": ".py",
   "mimetype": "text/x-python",
   "name": "python",
   "nbconvert_exporter": "python",
   "pygments_lexer": "ipython2",
   "version": "2.7.6"
  }
 },
 "nbformat": 4,
 "nbformat_minor": 0
}
